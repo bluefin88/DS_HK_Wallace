{
 "cells": [
  {
   "cell_type": "markdown",
   "metadata": {},
   "source": [
    "|COLOR|col_blue|col_red|col_green|col_purp|col_brown|\n",
    "|:---:|:---:|:---:|:---:|:---:|:---:|\n",
    "|Blue| 1 | 0 | 0 | 0 | 0 |\n",
    "|Red| 0 | 1 | 0 | 0 | 0 |\n",
    "|Green| 0 | 0 | 1 | 0 | 0 |\n",
    "|Purp| 0 | 0 | 0 | 1 | 0 |\n",
    "|Brown| 0 | 0 | 0 | 0 | 1 |\n",
    "|Grey| 0 | 0 | 0 | 0 | 0 |"
   ]
  },
  {
   "cell_type": "markdown",
   "metadata": {},
   "source": [
    "Book: Introduction to Statistical Learning"
   ]
  },
  {
   "cell_type": "code",
   "execution_count": null,
   "metadata": {
    "collapsed": true
   },
   "outputs": [],
   "source": []
  }
 ],
 "metadata": {
  "kernelspec": {
   "display_name": "Python 2",
   "language": "python",
   "name": "python2"
  },
  "language_info": {
   "codemirror_mode": {
    "name": "ipython",
    "version": 2
   },
   "file_extension": ".py",
   "mimetype": "text/x-python",
   "name": "python",
   "nbconvert_exporter": "python",
   "pygments_lexer": "ipython2",
   "version": "2.7.13"
  }
 },
 "nbformat": 4,
 "nbformat_minor": 2
}
